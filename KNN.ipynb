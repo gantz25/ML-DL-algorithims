{
 "cells": [
  {
   "cell_type": "code",
   "execution_count": 10,
   "id": "514cfd37",
   "metadata": {},
   "outputs": [],
   "source": [
    "def Euclidean(p1,p2):\n",
    "    Distance=0\n",
    "    for i in range(0,len(p1)-1):\n",
    "        Distance +=(p1[i]-p2[i])**2\n",
    "        return sqrt(Distance)\n"
   ]
  },
  {
   "cell_type": "code",
   "execution_count": 12,
   "id": "9eb3a361",
   "metadata": {},
   "outputs": [
    {
     "ename": "SyntaxError",
     "evalue": "invalid syntax (Temp/ipykernel_9452/3761683264.py, line 6)",
     "output_type": "error",
     "traceback": [
      "\u001b[1;36m  File \u001b[1;32m\"C:\\Users\\Dell\\AppData\\Local\\Temp/ipykernel_9452/3761683264.py\"\u001b[1;36m, line \u001b[1;32m6\u001b[0m\n\u001b[1;33m    distances.sort(key=lambda tup: tup[1])\u001b[0m\n\u001b[1;37m    ^\u001b[0m\n\u001b[1;31mSyntaxError\u001b[0m\u001b[1;31m:\u001b[0m invalid syntax\n"
     ]
    }
   ],
   "source": [
    "def get_ne(train,test,num_ne):\n",
    "    distances=list()\n",
    "    for train_row in train :\n",
    "        dist=Euclidean(test,train_row)\n",
    "        distances.append((train_row,dist)\n",
    "    distances.sort(key=lambda tup: tup[1])\n",
    "    ne=list()\n",
    "    for i in range(num_ne):\n",
    "        ne.append(distances[i][0])\n",
    "    return ne\n",
    "def predictKNN(train,test_row,num_ne):\n",
    "                         ne=get_ne(train,test_row,num_ne)\n",
    "                         out=[row[-1] for row in ne]\n",
    "                         prediction=max(set(out),key=out.count)\n",
    "                         return prediction \n",
    "                         "
   ]
  },
  {
   "cell_type": "code",
   "execution_count": null,
   "id": "e9113a54",
   "metadata": {},
   "outputs": [],
   "source": []
  }
 ],
 "metadata": {
  "kernelspec": {
   "display_name": "Python 3 (ipykernel)",
   "language": "python",
   "name": "python3"
  },
  "language_info": {
   "codemirror_mode": {
    "name": "ipython",
    "version": 3
   },
   "file_extension": ".py",
   "mimetype": "text/x-python",
   "name": "python",
   "nbconvert_exporter": "python",
   "pygments_lexer": "ipython3",
   "version": "3.9.7"
  }
 },
 "nbformat": 4,
 "nbformat_minor": 5
}
